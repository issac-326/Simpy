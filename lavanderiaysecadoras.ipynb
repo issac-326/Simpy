{
 "cells": [
  {
   "cell_type": "markdown",
   "id": "072bd9bb",
   "metadata": {},
   "source": [
    "Importacion de librerias"
   ]
  },
  {
   "cell_type": "code",
   "execution_count": 365,
   "id": "0c8f4916",
   "metadata": {},
   "outputs": [],
   "source": [
    "import pandas as pd\n",
    "import numpy as np\n",
    "import simpy\n",
    "import random\n",
    "import matplotlib.pyplot as plt\n"
   ]
  },
  {
   "cell_type": "markdown",
   "id": "14e04601",
   "metadata": {},
   "source": [
    "Definicion de clases "
   ]
  },
  {
   "cell_type": "code",
   "execution_count": 366,
   "id": "ac31bdcc",
   "metadata": {},
   "outputs": [],
   "source": [
    "class Lavadora:\n",
    "\n",
    "    def __init__(self, env, id):\n",
    "        self.env = env\n",
    "        self.id = id\n",
    "        self.recurso = simpy.Resource(env, capacity=1) \n"
   ]
  },
  {
   "cell_type": "code",
   "execution_count": 367,
   "id": "afeaa2bf",
   "metadata": {},
   "outputs": [],
   "source": [
    "class Secadora:\n",
    "    def __init__(self, env, id):\n",
    "        self.env = env\n",
    "        self.id = id\n",
    "        self.recurso = simpy.Resource(env, capacity=1) \n"
   ]
  },
  {
   "cell_type": "code",
   "execution_count": 368,
   "id": "09bc0463",
   "metadata": {},
   "outputs": [],
   "source": [
    "class Lavanderia:\n",
    "    def __init__(self, env, lavadoras, secadoras):\n",
    "        self.env = env\n",
    "        self.lavadoras = lavadoras\n",
    "        self.secadoras = secadoras\n"
   ]
  },
  {
   "cell_type": "code",
   "execution_count": 369,
   "id": "3f6bcb7f",
   "metadata": {},
   "outputs": [],
   "source": [
    "\n",
    "class Cliente:\n",
    "    def __init__(self, env, id, lavanderia, usa_secadora):\n",
    "        self.env = env\n",
    "        self.id = id\n",
    "        self.lavanderia = lavanderia\n",
    "        self.usa_secadora = usa_secadora  \n",
    "        self.tiempo_lavado = random.randint(20, 30)  \n",
    "        self.tiempo_secado = random.randint(25, 35)  \n",
    "        self.eventos = pd.DataFrame()\n",
    "        self.completo_servicio = False\n",
    "        self.env.process(self.proceso_lavanderia())\n",
    "\n",
    "    def registrar_evento(self, evento):\n",
    "        nuevo_evento = pd.DataFrame({\n",
    "            \"id_cliente\": [self.id],\n",
    "            \"evento\": [evento],\n",
    "            \"tiempo\": [self.env.now]\n",
    "        })\n",
    "        self.eventos = pd.concat([self.eventos, nuevo_evento])\n",
    "    \n",
    "    def proceso_lavanderia(self):\n",
    "        tiempo_llegada = self.env.now\n",
    "        self.registrar_evento(\"LLEGADA\")\n",
    "        \n",
    "        print(f\"{int(self.env.now)}: El cliente {self.id} llegó a la lavandería\")\n",
    "        \n",
    "        lavadoras_disponibles = []\n",
    "        min_queue_length = float('inf')\n",
    "\n",
    "        for lavadora in self.lavanderia.lavadoras:\n",
    "            queue_length = len(lavadora.recurso.queue)\n",
    "            if queue_length < min_queue_length:\n",
    "                min_queue_length = queue_length\n",
    "                lavadoras_disponibles = [lavadora]\n",
    "            elif queue_length == min_queue_length:\n",
    "                lavadoras_disponibles.append(lavadora)\n",
    "\n",
    "        lavadora_seleccionada = random.choice(lavadoras_disponibles)\n",
    "                \n",
    "        with lavadora_seleccionada.recurso.request() as req:\n",
    "            yield req  \n",
    "            \n",
    "            tiempo_inicio_lavado = self.env.now\n",
    "            tiempo_espera_lavadora = tiempo_inicio_lavado - tiempo_llegada\n",
    "            \n",
    "            self.registrar_evento(f\"INICIA_LAVADO_LAVADORA_{lavadora_seleccionada.id}\")\n",
    "            self.registrar_evento(f\"TIEMPO_ESPERA_LAVADORA_{tiempo_espera_lavadora}\")\n",
    "            \n",
    "            print(f\"{int(self.env.now)}: El cliente {self.id} inició lavado en la lavadora {lavadora_seleccionada.id} (tiempo: {self.tiempo_lavado} min) después de esperar {tiempo_espera_lavadora} min\")\n",
    "            \n",
    "\n",
    "            yield self.env.timeout(self.tiempo_lavado)\n",
    "            \n",
    "            self.registrar_evento(f\"FINALIZA_LAVADO_LAVADORA_{lavadora_seleccionada.id}\")\n",
    "            print(f\"{int(self.env.now)}: El cliente {self.id} terminó lavado en la lavadora {lavadora_seleccionada.id}\")\n",
    "\n",
    "        if self.usa_secadora:\n",
    "            tiempo_despues_lavado = self.env.now\n",
    "            \n",
    "            secadoras_disponibles = []\n",
    "            min_queue_length = float('inf')\n",
    "\n",
    "            for secadora in self.lavanderia.secadoras:\n",
    "                queue_length = len(secadora.recurso.queue)\n",
    "                if queue_length < min_queue_length:\n",
    "                    min_queue_length = queue_length\n",
    "                    secadoras_disponibles = [secadora]\n",
    "                elif queue_length == min_queue_length:\n",
    "                    secadoras_disponibles.append(secadora)\n",
    "\n",
    "            \n",
    "            secadora_seleccionada = random.choice(secadoras_disponibles)        \n",
    "            \n",
    "            with secadora_seleccionada.recurso.request() as req:\n",
    "                yield req  \n",
    "                \n",
    "                \n",
    "                tiempo_inicio_secado = self.env.now\n",
    "                tiempo_espera_secadora = tiempo_inicio_secado - tiempo_despues_lavado\n",
    "                \n",
    "                self.registrar_evento(f\"INICIA_SECADO_SECADORA_{secadora_seleccionada.id}\")\n",
    "                self.registrar_evento(f\"TIEMPO_ESPERA_SECADORA_{tiempo_espera_secadora}\")\n",
    "                \n",
    "                print(f\"{(self.env.now)}: El cliente {self.id} inició secado en la secadora {secadora_seleccionada.id} (tiempo: {self.tiempo_secado} min) después de esperar {tiempo_espera_secadora} min\")\n",
    "                \n",
    "                yield self.env.timeout(self.tiempo_secado)\n",
    "                \n",
    "                self.registrar_evento(f\"FINALIZA_SECADO_SECADORA_{secadora_seleccionada.id}\")\n",
    "                print(f\"{(self.env.now)}: El cliente {self.id} terminó secado en la secadora {secadora_seleccionada.id}\")\n",
    "                self.registrar_evento(\"SERVICIO_COMPLETO\")\n",
    "                print(f\"{(self.env.now)}: El cliente {self.id} completó todo su servicio\")\n",
    "                self.completo_servicio = True\n",
    "        "
   ]
  },
  {
   "cell_type": "code",
   "execution_count": 370,
   "id": "5babe8ff",
   "metadata": {},
   "outputs": [],
   "source": [
    "class Simulacion:\n",
    "\n",
    "    def __init__(self, env, num_lavadoras, num_secadoras):\n",
    "        self.env = env\n",
    "        self.lavadoras = [Lavadora(env, i+1) for i in range(num_lavadoras)]\n",
    "        self.secadoras = [Secadora(env, i+1) for i in range(num_secadoras)]\n",
    "        self.lavanderia = Lavanderia(env, self.lavadoras, self.secadoras)\n",
    "        self.clientes = []\n",
    "        self.env.process(self.generador_clientes())\n",
    "    \n",
    "    def generador_clientes(self):\n",
    "\n",
    "        id_cliente = 1\n",
    "        while True:\n",
    "            yield self.env.timeout(random.randint(8, 20))\n",
    "            \n",
    "            cliente = Cliente(\n",
    "                self.env,\n",
    "                id_cliente,\n",
    "                self.lavanderia,\n",
    "                usa_secadora=random.choice([True, False])\n",
    "            )\n",
    "            \n",
    "            self.clientes.append(cliente)\n",
    "            id_cliente += 1"
   ]
  },
  {
   "cell_type": "code",
   "execution_count": 371,
   "id": "6a3705cd",
   "metadata": {},
   "outputs": [],
   "source": [
    "def analizar_resultados(simulacion):\n",
    "    eventos = []\n",
    "    for cliente in simulacion.clientes:\n",
    "        eventos.append(cliente.eventos)\n",
    "    \n",
    "    df_eventos = pd.concat(eventos)\n",
    "    df_eventos = df_eventos.reset_index()\n",
    "    \n",
    "    clientes_info = []\n",
    "    for cliente in simulacion.clientes:\n",
    "        clientes_info.append({\n",
    "            \"id_cliente\": cliente.id,\n",
    "            \"tiempo_lavado\": cliente.tiempo_lavado,\n",
    "            \"tiempo_secado\": cliente.tiempo_secado,\n",
    "            \"usa_secadora\": cliente.usa_secadora,\n",
    "            \"completo_servicio\": cliente.completo_servicio\n",
    "        })\n",
    "    \n",
    "    df_clientes = pd.DataFrame(clientes_info)\n",
    "    \n",
    "\n",
    "    \n",
    "    return df_eventos, df_clientes"
   ]
  },
  {
   "cell_type": "markdown",
   "id": "aecb34b1",
   "metadata": {},
   "source": [
    "Función para ejecutar la simulación"
   ]
  },
  {
   "cell_type": "code",
   "execution_count": 372,
   "id": "8a88d3bd",
   "metadata": {},
   "outputs": [],
   "source": [
    "def ejecutar_simulacion(duracion, num_lavadoras, num_secadoras):\n",
    "    env = simpy.Environment()\n",
    "    \n",
    "    print(\"\\n===== INICIANDO SIMULACIÓN DE LAVANDERÍA AUTOMÁTICA =====\")\n",
    "    print(f\"Duración: {duracion} minutos\")\n",
    "    print(f\"Configuración: {num_lavadoras} lavadoras, {num_secadoras} secadoras\")\n",
    "    print(\"=========================================================\\n\")\n",
    "    \n",
    "    sim = Simulacion(env, num_lavadoras, num_secadoras)\n",
    "    \n",
    "    env.run(until=duracion)\n",
    "    \n",
    "    print(\"\\n===== SIMULACIÓN FINALIZADA =====\")\n",
    "    print(f\"Total de clientes: {len(sim.clientes)}\")\n",
    "    \n",
    "    df_eventos, df_clientes = analizar_resultados(sim)\n",
    "    \n",
    "    print(\"=================================\\n\")\n",
    "    \n",
    "    return sim, df_eventos, df_clientes\n"
   ]
  },
  {
   "cell_type": "code",
   "execution_count": 373,
   "id": "abe392e1",
   "metadata": {},
   "outputs": [
    {
     "name": "stdout",
     "output_type": "stream",
     "text": [
      "\n",
      "===== INICIANDO SIMULACIÓN DE LAVANDERÍA AUTOMÁTICA =====\n",
      "Duración: 480 minutos\n",
      "Configuración: 3 lavadoras, 2 secadoras\n",
      "=========================================================\n",
      "\n",
      "8: El cliente 1 llegó a la lavandería\n",
      "8: El cliente 1 inició lavado en la lavadora 2 (tiempo: 30 min) después de esperar 0 min\n",
      "16: El cliente 2 llegó a la lavandería\n",
      "30: El cliente 3 llegó a la lavandería\n",
      "30: El cliente 3 inició lavado en la lavadora 3 (tiempo: 20 min) después de esperar 0 min\n",
      "38: El cliente 1 terminó lavado en la lavadora 2\n",
      "38: El cliente 1 inició secado en la secadora 1 (tiempo: 35 min) después de esperar 0 min\n",
      "38: El cliente 2 inició lavado en la lavadora 2 (tiempo: 30 min) después de esperar 22 min\n",
      "45: El cliente 4 llegó a la lavandería\n",
      "50: El cliente 3 terminó lavado en la lavadora 3\n",
      "50: El cliente 4 inició lavado en la lavadora 3 (tiempo: 24 min) después de esperar 5 min\n",
      "63: El cliente 5 llegó a la lavandería\n",
      "68: El cliente 2 terminó lavado en la lavadora 2\n",
      "73: El cliente 1 terminó secado en la secadora 1\n",
      "73: El cliente 1 completó todo su servicio\n",
      "73: El cliente 2 inició secado en la secadora 1 (tiempo: 27 min) después de esperar 5 min\n",
      "74: El cliente 4 terminó lavado en la lavadora 3\n",
      "74: El cliente 5 inició lavado en la lavadora 3 (tiempo: 20 min) después de esperar 11 min\n",
      "76: El cliente 6 llegó a la lavandería\n",
      "76: El cliente 6 inició lavado en la lavadora 2 (tiempo: 30 min) después de esperar 0 min\n",
      "87: El cliente 7 llegó a la lavandería\n",
      "87: El cliente 7 inició lavado en la lavadora 1 (tiempo: 24 min) después de esperar 0 min\n",
      "94: El cliente 5 terminó lavado en la lavadora 3\n",
      "100: El cliente 2 terminó secado en la secadora 1\n",
      "100: El cliente 2 completó todo su servicio\n",
      "100: El cliente 8 llegó a la lavandería\n",
      "100: El cliente 8 inició lavado en la lavadora 3 (tiempo: 28 min) después de esperar 0 min\n",
      "106: El cliente 6 terminó lavado en la lavadora 2\n",
      "106: El cliente 6 inició secado en la secadora 1 (tiempo: 35 min) después de esperar 0 min\n",
      "111: El cliente 7 terminó lavado en la lavadora 1\n",
      "115: El cliente 9 llegó a la lavandería\n",
      "126: El cliente 10 llegó a la lavandería\n",
      "126: El cliente 10 inició lavado en la lavadora 2 (tiempo: 30 min) después de esperar 0 min\n",
      "128: El cliente 8 terminó lavado en la lavadora 3\n",
      "128: El cliente 8 inició secado en la secadora 2 (tiempo: 27 min) después de esperar 0 min\n",
      "128: El cliente 9 inició lavado en la lavadora 3 (tiempo: 30 min) después de esperar 13 min\n",
      "141: El cliente 6 terminó secado en la secadora 1\n",
      "141: El cliente 6 completó todo su servicio\n",
      "145: El cliente 11 llegó a la lavandería\n",
      "155: El cliente 8 terminó secado en la secadora 2\n",
      "155: El cliente 8 completó todo su servicio\n",
      "156: El cliente 10 terminó lavado en la lavadora 2\n",
      "156: El cliente 12 llegó a la lavandería\n",
      "156: El cliente 12 inició lavado en la lavadora 2 (tiempo: 21 min) después de esperar 0 min\n",
      "158: El cliente 9 terminó lavado en la lavadora 3\n",
      "158: El cliente 9 inició secado en la secadora 2 (tiempo: 32 min) después de esperar 0 min\n",
      "158: El cliente 11 inició lavado en la lavadora 3 (tiempo: 25 min) después de esperar 13 min\n",
      "164: El cliente 13 llegó a la lavandería\n",
      "177: El cliente 12 terminó lavado en la lavadora 2\n",
      "178: El cliente 14 llegó a la lavandería\n",
      "178: El cliente 14 inició lavado en la lavadora 2 (tiempo: 30 min) después de esperar 0 min\n",
      "183: El cliente 11 terminó lavado en la lavadora 3\n",
      "183: El cliente 13 inició lavado en la lavadora 3 (tiempo: 28 min) después de esperar 19 min\n",
      "190: El cliente 9 terminó secado en la secadora 2\n",
      "190: El cliente 9 completó todo su servicio\n",
      "191: El cliente 15 llegó a la lavandería\n",
      "191: El cliente 15 inició lavado en la lavadora 1 (tiempo: 30 min) después de esperar 0 min\n",
      "208: El cliente 14 terminó lavado en la lavadora 2\n",
      "208: El cliente 16 llegó a la lavandería\n",
      "208: El cliente 14 inició secado en la secadora 1 (tiempo: 28 min) después de esperar 0 min\n",
      "211: El cliente 13 terminó lavado en la lavadora 3\n",
      "211: El cliente 16 inició lavado en la lavadora 3 (tiempo: 28 min) después de esperar 3 min\n",
      "221: El cliente 15 terminó lavado en la lavadora 1\n",
      "225: El cliente 17 llegó a la lavandería\n",
      "225: El cliente 17 inició lavado en la lavadora 2 (tiempo: 20 min) después de esperar 0 min\n",
      "236: El cliente 14 terminó secado en la secadora 1\n",
      "236: El cliente 14 completó todo su servicio\n",
      "239: El cliente 16 terminó lavado en la lavadora 3\n",
      "239: El cliente 16 inició secado en la secadora 2 (tiempo: 35 min) después de esperar 0 min\n",
      "241: El cliente 18 llegó a la lavandería\n",
      "241: El cliente 18 inició lavado en la lavadora 3 (tiempo: 27 min) después de esperar 0 min\n",
      "245: El cliente 17 terminó lavado en la lavadora 2\n",
      "245: El cliente 17 inició secado en la secadora 1 (tiempo: 27 min) después de esperar 0 min\n",
      "254: El cliente 19 llegó a la lavandería\n",
      "254: El cliente 19 inició lavado en la lavadora 2 (tiempo: 29 min) después de esperar 0 min\n",
      "268: El cliente 18 terminó lavado en la lavadora 3\n",
      "271: El cliente 20 llegó a la lavandería\n",
      "271: El cliente 20 inició lavado en la lavadora 1 (tiempo: 22 min) después de esperar 0 min\n",
      "272: El cliente 17 terminó secado en la secadora 1\n",
      "272: El cliente 17 completó todo su servicio\n",
      "274: El cliente 16 terminó secado en la secadora 2\n",
      "274: El cliente 16 completó todo su servicio\n",
      "274: El cliente 18 inició secado en la secadora 2 (tiempo: 32 min) después de esperar 6 min\n",
      "281: El cliente 21 llegó a la lavandería\n",
      "281: El cliente 21 inició lavado en la lavadora 3 (tiempo: 21 min) después de esperar 0 min\n",
      "283: El cliente 19 terminó lavado en la lavadora 2\n",
      "293: El cliente 20 terminó lavado en la lavadora 1\n",
      "298: El cliente 22 llegó a la lavandería\n",
      "298: El cliente 22 inició lavado en la lavadora 2 (tiempo: 22 min) después de esperar 0 min\n",
      "302: El cliente 21 terminó lavado en la lavadora 3\n",
      "306: El cliente 18 terminó secado en la secadora 2\n",
      "306: El cliente 18 completó todo su servicio\n",
      "306: El cliente 21 inició secado en la secadora 2 (tiempo: 31 min) después de esperar 4 min\n",
      "313: El cliente 23 llegó a la lavandería\n",
      "313: El cliente 23 inició lavado en la lavadora 1 (tiempo: 27 min) después de esperar 0 min\n",
      "320: El cliente 22 terminó lavado en la lavadora 2\n",
      "333: El cliente 24 llegó a la lavandería\n",
      "337: El cliente 21 terminó secado en la secadora 2\n",
      "337: El cliente 21 completó todo su servicio\n",
      "340: El cliente 23 terminó lavado en la lavadora 1\n",
      "340: El cliente 23 inició secado en la secadora 2 (tiempo: 29 min) después de esperar 0 min\n",
      "340: El cliente 24 inició lavado en la lavadora 1 (tiempo: 23 min) después de esperar 7 min\n",
      "347: El cliente 25 llegó a la lavandería\n",
      "347: El cliente 25 inició lavado en la lavadora 3 (tiempo: 25 min) después de esperar 0 min\n",
      "360: El cliente 26 llegó a la lavandería\n",
      "360: El cliente 26 inició lavado en la lavadora 2 (tiempo: 29 min) después de esperar 0 min\n",
      "363: El cliente 24 terminó lavado en la lavadora 1\n",
      "369: El cliente 23 terminó secado en la secadora 2\n",
      "369: El cliente 23 completó todo su servicio\n",
      "370: El cliente 27 llegó a la lavandería\n",
      "372: El cliente 25 terminó lavado en la lavadora 3\n",
      "372: El cliente 27 inició lavado en la lavadora 3 (tiempo: 27 min) después de esperar 2 min\n",
      "378: El cliente 28 llegó a la lavandería\n",
      "386: El cliente 29 llegó a la lavandería\n",
      "389: El cliente 26 terminó lavado en la lavadora 2\n",
      "389: El cliente 26 inició secado en la secadora 2 (tiempo: 34 min) después de esperar 0 min\n",
      "389: El cliente 28 inició lavado en la lavadora 2 (tiempo: 28 min) después de esperar 11 min\n",
      "399: El cliente 27 terminó lavado en la lavadora 3\n",
      "399: El cliente 29 inició lavado en la lavadora 3 (tiempo: 22 min) después de esperar 13 min\n",
      "404: El cliente 30 llegó a la lavandería\n",
      "412: El cliente 31 llegó a la lavandería\n",
      "412: El cliente 31 inició lavado en la lavadora 1 (tiempo: 23 min) después de esperar 0 min\n",
      "417: El cliente 28 terminó lavado en la lavadora 2\n",
      "417: El cliente 30 inició lavado en la lavadora 2 (tiempo: 21 min) después de esperar 13 min\n",
      "421: El cliente 29 terminó lavado en la lavadora 3\n",
      "423: El cliente 26 terminó secado en la secadora 2\n",
      "423: El cliente 26 completó todo su servicio\n",
      "423: El cliente 32 llegó a la lavandería\n",
      "423: El cliente 29 inició secado en la secadora 2 (tiempo: 29 min) después de esperar 2 min\n",
      "435: El cliente 31 terminó lavado en la lavadora 1\n",
      "435: El cliente 32 inició lavado en la lavadora 1 (tiempo: 20 min) después de esperar 12 min\n",
      "438: El cliente 30 terminó lavado en la lavadora 2\n",
      "438: El cliente 30 inició secado en la secadora 1 (tiempo: 26 min) después de esperar 0 min\n",
      "440: El cliente 33 llegó a la lavandería\n",
      "449: El cliente 34 llegó a la lavandería\n",
      "449: El cliente 34 inició lavado en la lavadora 2 (tiempo: 20 min) después de esperar 0 min\n",
      "452: El cliente 29 terminó secado en la secadora 2\n",
      "452: El cliente 29 completó todo su servicio\n",
      "455: El cliente 32 terminó lavado en la lavadora 1\n",
      "455: El cliente 33 inició lavado en la lavadora 1 (tiempo: 21 min) después de esperar 15 min\n",
      "461: El cliente 35 llegó a la lavandería\n",
      "461: El cliente 35 inició lavado en la lavadora 3 (tiempo: 24 min) después de esperar 0 min\n",
      "464: El cliente 30 terminó secado en la secadora 1\n",
      "464: El cliente 30 completó todo su servicio\n",
      "469: El cliente 34 terminó lavado en la lavadora 2\n",
      "475: El cliente 36 llegó a la lavandería\n",
      "476: El cliente 33 terminó lavado en la lavadora 1\n",
      "\n",
      "===== SIMULACIÓN FINALIZADA =====\n",
      "Total de clientes: 36\n",
      "=================================\n",
      "\n"
     ]
    },
    {
     "data": {
      "text/plain": [
       "<__main__.Simulacion at 0x2c42fed4f80>"
      ]
     },
     "execution_count": 373,
     "metadata": {},
     "output_type": "execute_result"
    }
   ],
   "source": [
    "sim, df_eventos, df_clientes = ejecutar_simulacion(8*60, 3, 2)\n",
    "sim"
   ]
  },
  {
   "cell_type": "markdown",
   "id": "b37d42b4",
   "metadata": {},
   "source": [
    "1- Cuanto tiempo promedio del uso de las lavadoras ?\n"
   ]
  },
  {
   "cell_type": "code",
   "execution_count": 374,
   "id": "927449b6",
   "metadata": {},
   "outputs": [
    {
     "name": "stdout",
     "output_type": "stream",
     "text": [
      "\n",
      "1. Tiempo promedio de espera para usar una lavadora: 4.54 minutos\n"
     ]
    }
   ],
   "source": [
    "df_eventos, df_clientes = analizar_resultados(sim)\n",
    "df = df_eventos\n",
    "    \n",
    "# Ordenar por cliente y tiempo\n",
    "df = df.sort_values([\"id_cliente\", \"tiempo\"])\n",
    "\n",
    "# Calcular tiempo entre eventos para cada cliente\n",
    "df[\"tiempo_anterior\"] = df.groupby(\"id_cliente\")[\"tiempo\"].shift(1)\n",
    "df[\"tiempo_espera\"] = df[\"tiempo\"] - df[\"tiempo_anterior\"]\n",
    "\n",
    "espera_lavadora = df[df[\"evento\"].str.contains(\"INICIA_LAVADO\")]\n",
    "tiempo_espera_lavadora = espera_lavadora[\"tiempo\"] - espera_lavadora[\"id_cliente\"].map(\n",
    "    df_eventos[df_eventos[\"evento\"] == \"LLEGADA\"].set_index(\"id_cliente\")[\"tiempo\"]\n",
    "    )\n",
    "print(f\"\\n1. Tiempo promedio de espera para usar una lavadora: {tiempo_espera_lavadora.mean():.2f} minutos\")\n",
    "    "
   ]
  },
  {
   "cell_type": "markdown",
   "id": "41ee137b",
   "metadata": {},
   "source": [
    "2- Que porcentaje de los clientes completaron el servicio?\n"
   ]
  },
  {
   "cell_type": "code",
   "execution_count": 375,
   "id": "6474f898",
   "metadata": {},
   "outputs": [
    {
     "name": "stdout",
     "output_type": "stream",
     "text": [
      "\n",
      "2. Porcentaje de clientes que completaron todo el servicio: 38.89%\n"
     ]
    }
   ],
   "source": [
    "# Pregunta 2: Porcentaje de clientes que completaron todo el servicio\n",
    "total_clientes = len(df_clientes)\n",
    "clientes_completos = df_clientes[\"completo_servicio\"].sum()\n",
    "porcentaje_completos = (clientes_completos / total_clientes) * 100\n",
    "print(f\"\\n2. Porcentaje de clientes que completaron todo el servicio: {porcentaje_completos:.2f}%\")"
   ]
  },
  {
   "cell_type": "markdown",
   "id": "1a8497e9",
   "metadata": {},
   "source": [
    "3 - Cual es el tiempo promedio de una persona en la lavanderia?\n"
   ]
  },
  {
   "cell_type": "code",
   "execution_count": 376,
   "id": "3c3aa84d",
   "metadata": {},
   "outputs": [
    {
     "name": "stdout",
     "output_type": "stream",
     "text": [
      "\n",
      "3. Tiempo promedio total en la lavandería: 41.66 minutos\n"
     ]
    }
   ],
   "source": [
    "tiempo_total = []\n",
    "for cliente_id in df_clientes[\"id_cliente\"]:\n",
    "    eventos_cliente = df_eventos[df_eventos[\"id_cliente\"] == cliente_id]\n",
    "    if len(eventos_cliente) >= 2:\n",
    "        llegada = eventos_cliente[eventos_cliente[\"evento\"] == \"LLEGADA\"][\"tiempo\"].iloc[0]\n",
    "        ultimo_evento = eventos_cliente[\"tiempo\"].max()\n",
    "        tiempo_total.append(ultimo_evento - llegada)\n",
    "\n",
    "if tiempo_total:\n",
    "    print(f\"\\n3. Tiempo promedio total en la lavandería: {np.mean(tiempo_total):.2f} minutos\")\n"
   ]
  },
  {
   "cell_type": "markdown",
   "id": "7bd05836",
   "metadata": {},
   "source": [
    "4 - Cuanto es el uso de las lavadoras y secadoras?\n"
   ]
  },
  {
   "cell_type": "code",
   "execution_count": 377,
   "id": "4b8d2b91",
   "metadata": {},
   "outputs": [
    {
     "name": "stdout",
     "output_type": "stream",
     "text": [
      "\n",
      "4. Utilización de cada recurso:\n",
      "   Lavadoras:\n",
      "   - Lavadora 1: 8 usos\n",
      "   - Lavadora 2: 13 usos\n",
      "   - Lavadora 3: 14 usos\n",
      "   Secadoras:\n",
      "   - Secadora 1: 6 usos\n",
      "   - Secadora 2: 8 usos\n"
     ]
    }
   ],
   "source": [
    "# Pregunta 4: Utilización de lavadoras y secadoras\n",
    "eventos_lavado = df_eventos[df_eventos[\"evento\"].str.contains(\"INICIA_LAVADO\")]\n",
    "eventos_secado = df_eventos[df_eventos[\"evento\"].str.contains(\"INICIA_SECADO\")]\n",
    "\n",
    "lavadoras_usadas = {}\n",
    "for evento in eventos_lavado[\"evento\"]:\n",
    "    lavadora_id = int(evento.split(\"_\")[-1])\n",
    "    lavadoras_usadas[lavadora_id] = lavadoras_usadas.get(lavadora_id, 0) + 1\n",
    "\n",
    "secadoras_usadas = {}\n",
    "for evento in eventos_secado[\"evento\"]:\n",
    "    secadora_id = int(evento.split(\"_\")[-1])\n",
    "    secadoras_usadas[secadora_id] = secadoras_usadas.get(secadora_id, 0) + 1\n",
    "\n",
    "print(\"\\n4. Utilización de cada recurso:\")\n",
    "print(\"   Lavadoras:\")\n",
    "for lavadora_id, usos in sorted(lavadoras_usadas.items()):\n",
    "    print(f\"   - Lavadora {lavadora_id}: {usos} usos\")\n",
    "\n",
    "print(\"   Secadoras:\")\n",
    "for secadora_id, usos in sorted(secadoras_usadas.items()):\n",
    "    print(f\"   - Secadora {secadora_id}: {usos} usos\")"
   ]
  },
  {
   "cell_type": "markdown",
   "id": "d93501dd",
   "metadata": {},
   "source": [
    "5 - Cuál es el tiempo promedio de espera para las secadoras y cómo se compara con el tiempo de espera para las lavadoras?"
   ]
  },
  {
   "cell_type": "code",
   "execution_count": 378,
   "id": "ca4342ed",
   "metadata": {},
   "outputs": [
    {
     "name": "stdout",
     "output_type": "stream",
     "text": [
      "\n",
      "Tiempo promedio de espera para usar una secadora: 1.21 minutos\n",
      "Tiempo promedio de espera para usar una lavadora: 4.54 minutos\n"
     ]
    }
   ],
   "source": [
    "espera_secadora = df[df[\"evento\"].str.contains(\"INICIA_SECADO\")]\n",
    "tiempo_espera_secadora = espera_secadora[\"tiempo\"] - espera_secadora[\"id_cliente\"].map(\n",
    "    df_eventos[df_eventos[\"evento\"].str.contains(\"FINALIZA_LAVADO\")].set_index(\"id_cliente\")[\"tiempo\"]\n",
    ")\n",
    "\n",
    "print(f\"\\nTiempo promedio de espera para usar una secadora: {tiempo_espera_secadora.mean():.2f} minutos\")\n",
    "print(f\"Tiempo promedio de espera para usar una lavadora: {tiempo_espera_lavadora.mean():.2f} minutos\")\n"
   ]
  }
 ],
 "metadata": {
  "kernelspec": {
   "display_name": "base",
   "language": "python",
   "name": "python3"
  },
  "language_info": {
   "codemirror_mode": {
    "name": "ipython",
    "version": 3
   },
   "file_extension": ".py",
   "mimetype": "text/x-python",
   "name": "python",
   "nbconvert_exporter": "python",
   "pygments_lexer": "ipython3",
   "version": "3.12.3"
  }
 },
 "nbformat": 4,
 "nbformat_minor": 5
}
